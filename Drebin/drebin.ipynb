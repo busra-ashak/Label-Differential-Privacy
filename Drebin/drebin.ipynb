{
 "cells": [
  {
   "cell_type": "code",
   "execution_count": 1,
   "id": "e2ff535c",
   "metadata": {},
   "outputs": [],
   "source": [
    "import warnings\n",
    "warnings.filterwarnings(\"ignore\")  # \"error\", \"ignore\", \"always\", \"default\", \"module\" or \"once\""
   ]
  },
  {
   "cell_type": "code",
   "execution_count": 2,
   "id": "3870ed5c",
   "metadata": {},
   "outputs": [],
   "source": [
    "import numpy as np\n",
    "import pandas as pd\n",
    "import random\n",
    "import os\n",
    "import copy\n",
    "#from imutils import paths\n",
    "from sklearn.model_selection import train_test_split\n",
    "from sklearn.preprocessing import LabelBinarizer\n",
    "from sklearn.preprocessing import StandardScaler\n",
    "from sklearn.metrics import confusion_matrix\n",
    "from sklearn.metrics import accuracy_score as acc\n",
    "from sklearn.metrics import precision_score as precision\n",
    "from sklearn.metrics import recall_score as recall\n",
    "from sklearn.metrics import f1_score as f1\n",
    "\n",
    "from sklearn.svm import SVC\n",
    "from sklearn.neural_network import MLPClassifier\n",
    "from lightgbm import LGBMClassifier\n",
    "from xgboost.sklearn import XGBClassifier\n",
    "\n",
    "import autokeras as ak\n",
    "import keras\n",
    "from keras.models import Sequential\n",
    "from keras.layers import Dense\n",
    "import tensorflow as tf\n",
    "from tensorflow import keras\n",
    "from tensorflow.keras.layers import Dense, Input, ReLU\n",
    "from tensorflow.keras.models import Model"
   ]
  },
  {
   "cell_type": "markdown",
   "id": "0d69a1f9",
   "metadata": {},
   "source": [
    "# Original Data"
   ]
  },
  {
   "cell_type": "code",
   "execution_count": 3,
   "id": "025a9cc9",
   "metadata": {},
   "outputs": [],
   "source": [
    "#declear path to your data\n",
    "drebin_data_path = 'data/drebin.csv'\n",
    "columns = list(pd.read_csv('data/dataset-features-categories.csv', header = None).iloc[:,0])\n",
    "# Importing the dataset\n",
    "Drebin_data = pd.read_csv(drebin_data_path, names = columns)\n",
    "\n",
    "X = Drebin_data.iloc[:,range(0,Drebin_data.shape[1]-1)].values\n",
    "y = Drebin_data.iloc[:, -1].values\n",
    "\n",
    "lb = LabelBinarizer()\n",
    "y = lb.fit_transform(y)\n",
    "\n",
    "# Splitting the dataset into the Training set and Test set\n",
    "X_train, X_test, y_train, y_test = train_test_split(X, y.astype(int), test_size = 0.3, random_state = 0)\n",
    "\n",
    "# Feature Scaling\n",
    "sc = StandardScaler()\n",
    "X_train = sc.fit_transform(X_train)\n",
    "X_test = sc.transform(X_test)"
   ]
  },
  {
   "cell_type": "markdown",
   "id": "486b4d1e",
   "metadata": {},
   "source": [
    "# Train-Test"
   ]
  },
  {
   "cell_type": "code",
   "execution_count": 4,
   "id": "b8907912",
   "metadata": {
    "scrolled": false
   },
   "outputs": [
    {
     "name": "stdout",
     "output_type": "stream",
     "text": [
      "---------------------------\n",
      "SVM\n",
      "accuracy 0.9796054090002216\n",
      "---------------------------\n",
      "MLP\n",
      "accuracy 0.9895810241631567\n",
      "---------------------------\n",
      "XGB\n",
      "accuracy 0.9904677455109732\n",
      "---------------------------\n",
      "LGBM\n",
      "accuracy 0.9904677455109732\n",
      "---------------------------\n"
     ]
    }
   ],
   "source": [
    "classifiers = {\"SVM\": SVC(kernel = 'linear', degree=3), \"MLP\": MLPClassifier(random_state=1, max_iter=300), \"XGB\": XGBClassifier(), \"LGBM\": LGBMClassifier()} \n",
    "\n",
    "for classifier_pair in classifiers.items():\n",
    "    print(\"---------------------------\")\n",
    "    print(classifier_pair[0])\n",
    "    classifier = classifier_pair[1]\n",
    "    classifier.fit(X_train, y_train)\n",
    "    # Predicting the Test set results\n",
    "    y_pred = classifier.predict(X_test)\n",
    "    #compute accuracy_score\n",
    "    accuracy = acc(y_test, y_pred)\n",
    "    print('accuracy', accuracy)\n",
    "    \n",
    "print(\"---------------------------\")"
   ]
  },
  {
   "cell_type": "markdown",
   "id": "a4bd3355",
   "metadata": {},
   "source": [
    "# AutoKeras Model"
   ]
  },
  {
   "cell_type": "code",
   "execution_count": 5,
   "id": "a75a5aef",
   "metadata": {},
   "outputs": [
    {
     "name": "stdout",
     "output_type": "stream",
     "text": [
      "Model: \"model\"\n",
      "_________________________________________________________________\n",
      " Layer (type)                Output Shape              Param #   \n",
      "=================================================================\n",
      " input_1 (InputLayer)        [(None, 215)]             0         \n",
      "                                                                 \n",
      " multi_category_encoding (Mu  (None, 215)              0         \n",
      " ltiCategoryEncoding)                                            \n",
      "                                                                 \n",
      " normalization (Normalizatio  (None, 215)              431       \n",
      " n)                                                              \n",
      "                                                                 \n",
      " dense (Dense)               (None, 256)               55296     \n",
      "                                                                 \n",
      " re_lu (ReLU)                (None, 256)               0         \n",
      "                                                                 \n",
      " dense_1 (Dense)             (None, 32)                8224      \n",
      "                                                                 \n",
      " re_lu_1 (ReLU)              (None, 32)                0         \n",
      "                                                                 \n",
      " dense_2 (Dense)             (None, 1)                 33        \n",
      "                                                                 \n",
      " classification_head_1 (Acti  (None, 1)                0         \n",
      " vation)                                                         \n",
      "                                                                 \n",
      "=================================================================\n",
      "Total params: 63,984\n",
      "Trainable params: 63,553\n",
      "Non-trainable params: 431\n",
      "_________________________________________________________________\n",
      "None\n"
     ]
    }
   ],
   "source": [
    "saved_model=keras.models.load_model('structured_data_classifier/best_model', compile=True)\n",
    "print(saved_model.summary())"
   ]
  },
  {
   "cell_type": "code",
   "execution_count": 11,
   "id": "781b22b7",
   "metadata": {},
   "outputs": [],
   "source": [
    "def autoKerasModel(path_best_model):\n",
    "    saved_model = keras.models.load_model(path_best_model, compile=True)\n",
    "    input_layer = Input(shape=(215,))\n",
    "    x = saved_model.layers[1](input_layer)\n",
    "    x = saved_model.layers[2](x)\n",
    "    x = Dense(units=256)(x)\n",
    "    x = ReLU()(x)\n",
    "    x = Dense(units=32)(x)\n",
    "    x = ReLU()(x)\n",
    "    x = Dense(units=1)(x)\n",
    "    x = saved_model.layers[-1](x)\n",
    "    new_model = Model(inputs=input_layer, outputs=x)\n",
    "    return new_model"
   ]
  },
  {
   "cell_type": "code",
   "execution_count": 7,
   "id": "555103cc",
   "metadata": {
    "scrolled": false
   },
   "outputs": [
    {
     "name": "stdout",
     "output_type": "stream",
     "text": [
      "Epoch 1/15\n",
      "329/329 [==============================] - 5s 7ms/step - loss: 0.0952 - accuracy: 0.9662\n",
      "Epoch 2/15\n",
      "329/329 [==============================] - 2s 6ms/step - loss: 0.0424 - accuracy: 0.9857\n",
      "Epoch 3/15\n",
      "329/329 [==============================] - 2s 7ms/step - loss: 0.0293 - accuracy: 0.9903\n",
      "Epoch 4/15\n",
      "329/329 [==============================] - 2s 7ms/step - loss: 0.0221 - accuracy: 0.9928\n",
      "Epoch 5/15\n",
      "329/329 [==============================] - 2s 6ms/step - loss: 0.0162 - accuracy: 0.9953\n",
      "Epoch 6/15\n",
      "329/329 [==============================] - 2s 6ms/step - loss: 0.0145 - accuracy: 0.9956\n",
      "Epoch 7/15\n",
      "329/329 [==============================] - 2s 7ms/step - loss: 0.0123 - accuracy: 0.9967\n",
      "Epoch 8/15\n",
      "329/329 [==============================] - 2s 6ms/step - loss: 0.0112 - accuracy: 0.9969\n",
      "Epoch 9/15\n",
      "329/329 [==============================] - 2s 6ms/step - loss: 0.0097 - accuracy: 0.9974\n",
      "Epoch 10/15\n",
      "329/329 [==============================] - 2s 7ms/step - loss: 0.0099 - accuracy: 0.9973\n",
      "Epoch 11/15\n",
      "329/329 [==============================] - 3s 8ms/step - loss: 0.0100 - accuracy: 0.9976\n",
      "Epoch 12/15\n",
      "329/329 [==============================] - 2s 7ms/step - loss: 0.0340 - accuracy: 0.9924\n",
      "Epoch 13/15\n",
      "329/329 [==============================] - 3s 10ms/step - loss: 0.0086 - accuracy: 0.9980\n",
      "Epoch 14/15\n",
      "329/329 [==============================] - 3s 8ms/step - loss: 0.0068 - accuracy: 0.9985\n",
      "Epoch 15/15\n",
      "329/329 [==============================] - 2s 7ms/step - loss: 0.0065 - accuracy: 0.9990\n",
      "141/141 [==============================] - 3s 6ms/step - loss: 0.0786 - accuracy: 0.9909\n",
      "test loss, test acc: [0.07863331586122513, 0.9909111261367798]\n",
      "Model: \"model\"\n",
      "_________________________________________________________________\n",
      " Layer (type)                Output Shape              Param #   \n",
      "=================================================================\n",
      " input_1 (InputLayer)        [(None, 215)]             0         \n",
      "                                                                 \n",
      " multi_category_encoding (Mu  (None, 215)              0         \n",
      " ltiCategoryEncoding)                                            \n",
      "                                                                 \n",
      " normalization (Normalizatio  (None, 215)              431       \n",
      " n)                                                              \n",
      "                                                                 \n",
      " dense (Dense)               (None, 256)               55296     \n",
      "                                                                 \n",
      " re_lu (ReLU)                (None, 256)               0         \n",
      "                                                                 \n",
      " dense_1 (Dense)             (None, 32)                8224      \n",
      "                                                                 \n",
      " re_lu_1 (ReLU)              (None, 32)                0         \n",
      "                                                                 \n",
      " dense_2 (Dense)             (None, 1)                 33        \n",
      "                                                                 \n",
      " classification_head_1 (Acti  (None, 1)                0         \n",
      " vation)                                                         \n",
      "                                                                 \n",
      "=================================================================\n",
      "Total params: 63,984\n",
      "Trainable params: 63,553\n",
      "Non-trainable params: 431\n",
      "_________________________________________________________________\n",
      "None\n"
     ]
    }
   ],
   "source": [
    "autokeras_model=autoKerasModel('structured_data_classifier/best_model')\n",
    "autokeras_model.compile(loss='binary_crossentropy', optimizer='adam', metrics=['accuracy'])\n",
    "\n",
    "autokeras_model.fit(X_train, y_train, epochs=15)\n",
    "results = autokeras_model.evaluate(X_test, y_test)\n",
    "\n",
    "print(\"test loss, test acc:\", results)\n",
    "print(autokeras_model.summary())"
   ]
  },
  {
   "cell_type": "markdown",
   "id": "f0c7946d",
   "metadata": {},
   "source": [
    "# Ensemble Learning - Majority Voting"
   ]
  },
  {
   "cell_type": "code",
   "execution_count": 14,
   "id": "c635b5e0",
   "metadata": {
    "scrolled": true
   },
   "outputs": [],
   "source": [
    "def majority_voting(y_preds, y_test):\n",
    "    assert y_preds.shape[0] == len(y_test), \"y_preds's length is: {} while y_test's length is: {}. They should be equal.\".format(y_preds.shape[0],len(y_test))\n",
    "    y_pred_vote = []\n",
    "    for preds in y_preds:\n",
    "        if sum(preds) >= 3:\n",
    "            y_pred_vote.append(1)\n",
    "        else:\n",
    "            y_pred_vote.append(0)\n",
    "    #compute accuracy_score\n",
    "    accuracy = acc(y_test, y_pred_vote)\n",
    "    return accuracy"
   ]
  },
  {
   "cell_type": "code",
   "execution_count": 9,
   "id": "e6d69997",
   "metadata": {},
   "outputs": [
    {
     "name": "stdout",
     "output_type": "stream",
     "text": [
      "141/141 [==============================] - 3s 10ms/step\n",
      "accuracy 0.9906894258479273\n"
     ]
    }
   ],
   "source": [
    "y_preds = np.ndarray(shape=(5,len(y_test)))\n",
    "i=0\n",
    "for classifier_pair in classifiers.items():\n",
    "    classifier = classifier_pair[1]\n",
    "    y_preds[i] = classifier.predict(X_test)\n",
    "    i += 1\n",
    "y_preds[i] = np.transpose(autokeras_model.predict(X_test, verbose=0))\n",
    "y_preds = np.transpose(y_preds)\n",
    "print('accuracy', majority_voting(y_preds, y_test))"
   ]
  },
  {
   "cell_type": "markdown",
   "id": "fbac6377",
   "metadata": {},
   "source": [
    "# Label Flipping"
   ]
  },
  {
   "cell_type": "code",
   "execution_count": 6,
   "id": "0d765dc9",
   "metadata": {},
   "outputs": [],
   "source": [
    "def attack_label_flipping(X_train, X_test, y_train, y_test, per, classifier, ak=False):\n",
    "    flip_count = int(per*(len(y_train)))\n",
    "    flipped_data = copy.deepcopy(y_train)\n",
    "    indices = random.sample(range(len(flipped_data)), flip_count)\n",
    "    for j in indices:\n",
    "        flipped_data[j] = (flipped_data[j] + 1)%2\n",
    "    if ak:\n",
    "        classifier.fit(X_train, flipped_data, verbose=0, epochs=15)\n",
    "        y_pred = np.transpose(classifier.predict(X_test, verbose=0))\n",
    "    else:\n",
    "        classifier.fit(X_train, flipped_data)\n",
    "        y_pred = classifier.predict(X_test)\n",
    "    return y_pred"
   ]
  },
  {
   "cell_type": "code",
   "execution_count": 7,
   "id": "2ddbcce5",
   "metadata": {
    "scrolled": true
   },
   "outputs": [
    {
     "name": "stdout",
     "output_type": "stream",
     "text": [
      "---------------------------\n",
      "Trial #1 is starting...\n",
      "Trial #1 is completed with accuracy: 0.9731766792285524\n",
      "---------------------------\n",
      "Trial #2 is starting...\n",
      "Trial #2 is completed with accuracy: 0.9731766792285524\n",
      "---------------------------\n",
      "Trial #3 is starting...\n",
      "Trial #3 is completed with accuracy: 0.9767235646198182\n",
      "---------------------------\n",
      "Trial #4 is starting...\n",
      "Trial #4 is completed with accuracy: 0.9740634005763689\n",
      "---------------------------\n",
      "Trial #5 is starting...\n",
      "Trial #5 is completed with accuracy: 0.9720682775437819\n",
      "---------------------------\n",
      "Average accuracy is 0.9738417202394147\n"
     ]
    }
   ],
   "source": [
    "percentages = [0.05, 0.1, 0.2, 0.4]\n",
    "\n",
    "accuracies = []\n",
    "print(\"---------------------------\")\n",
    "for i in range(5):\n",
    "    print(\"Trial #{} is starting...\".format(i+1))\n",
    "    poisoned_classifiers = [SVC(kernel = 'linear', degree=3), MLPClassifier(random_state=1, max_iter=300), XGBClassifier(), LGBMClassifier()] \n",
    "    poisoned_autokeras_model=autoKerasModel('structured_data_classifier/best_model')\n",
    "    poisoned_autokeras_model.compile(loss='binary_crossentropy', optimizer='adam', metrics=['accuracy'])\n",
    "    poisoned_classifiers.append(poisoned_autokeras_model)\n",
    "    y_preds = np.ndarray(shape=(len(poisoned_classifiers),len(y_test)))\n",
    "    ak = False\n",
    "    for j in range(len(poisoned_classifiers)):\n",
    "        if j == len(poisoned_classifiers) - 1:\n",
    "            ak = True\n",
    "        y_preds[j] = attack_label_flipping(X_train, X_test, y_train, y_test, percentages[2], poisoned_classifiers[j], ak)\n",
    "    y_preds = np.transpose(y_preds)\n",
    "    accuracy = majority_voting(y_preds, y_test)\n",
    "    accuracies.append(accuracy)\n",
    "    print(\"Trial #{} is completed with accuracy: {}\".format(i+1, accuracy))\n",
    "    print(\"---------------------------\")\n",
    "print(\"Average accuracy is\", sum(accuracies)/len(accuracies))"
   ]
  },
  {
   "cell_type": "markdown",
   "id": "4de53925",
   "metadata": {},
   "source": [
    "# SECML Poisoning"
   ]
  },
  {
   "cell_type": "code",
   "execution_count": 17,
   "id": "c61ab9d3",
   "metadata": {},
   "outputs": [
    {
     "name": "stdout",
     "output_type": "stream",
     "text": [
      "Training of c_classifier_LR...\n",
      "Training of c_classifier_LR is done!\n"
     ]
    }
   ],
   "source": [
    "from secml.ml.classifiers.sklearn.c_classifier_logistic import CClassifierLogistic\n",
    "from secml.adv.attacks.poisoning.c_attack_poisoning_logistic_regression import CAttackPoisoningLogisticRegression\n",
    "from secml.data.c_dataset import CDataset\n",
    "from secml.ml.peval.metrics import CMetricAccuracy\n",
    "\n",
    "lob, ub = 0., 1.  # Bounds of the attack space. Can be set to `None` for unbounded\n",
    "\n",
    "# Should be chosen depending on the optimization problem\n",
    "solver_params = {\n",
    "    'eta': 0.25,\n",
    "    'eta_min': 2.0,\n",
    "    'eta_max': None,\n",
    "    'max_iter': 100,\n",
    "    'eps': 1e-6\n",
    "}\n",
    "\n",
    "dataset = CDataset(X_train, y_train)\n",
    "metric = CMetricAccuracy()\n",
    "\n",
    "# train SVM in the dual space, on a linear kernel, as needed for poisoning\n",
    "c_classifier_LR = CClassifierLogistic()\n",
    "print(\"Training of c_classifier_LR...\")\n",
    "c_classifier_LR.fit(X_train, y_train)\n",
    "print(\"Training of c_classifier_LR is done!\")"
   ]
  },
  {
   "cell_type": "markdown",
   "id": "f8c52924",
   "metadata": {},
   "source": [
    "# 10% Poisoning"
   ]
  },
  {
   "cell_type": "code",
   "execution_count": 18,
   "id": "f9be3011",
   "metadata": {},
   "outputs": [
    {
     "name": "stdout",
     "output_type": "stream",
     "text": [
      "Attack started...\n"
     ]
    },
    {
     "ename": "KeyboardInterrupt",
     "evalue": "",
     "output_type": "error",
     "traceback": [
      "\u001b[1;31m---------------------------------------------------------------------------\u001b[0m",
      "\u001b[1;31mKeyboardInterrupt\u001b[0m                         Traceback (most recent call last)",
      "Cell \u001b[1;32mIn[18], line 14\u001b[0m\n\u001b[0;32m     12\u001b[0m \u001b[38;5;66;03m# Run the poisoning attack\u001b[39;00m\n\u001b[0;32m     13\u001b[0m \u001b[38;5;28mprint\u001b[39m(\u001b[38;5;124m\"\u001b[39m\u001b[38;5;124mAttack started...\u001b[39m\u001b[38;5;124m\"\u001b[39m)\n\u001b[1;32m---> 14\u001b[0m pois_y_pred, _, pois_points_ds, _ \u001b[38;5;241m=\u001b[39m \u001b[43mpois_attack\u001b[49m\u001b[38;5;241;43m.\u001b[39;49m\u001b[43mrun\u001b[49m\u001b[43m(\u001b[49m\u001b[43mX_test\u001b[49m\u001b[43m,\u001b[49m\u001b[43m \u001b[49m\u001b[43my_test\u001b[49m\u001b[43m)\u001b[49m\n\u001b[0;32m     15\u001b[0m \u001b[38;5;28mprint\u001b[39m(\u001b[38;5;124m\"\u001b[39m\u001b[38;5;124mAttack complete!\u001b[39m\u001b[38;5;124m\"\u001b[39m)\n",
      "File \u001b[1;32m~\\AppData\\Local\\Programs\\Python\\Python310\\lib\\site-packages\\secml\\adv\\attacks\\poisoning\\c_attack_poisoning.py:555\u001b[0m, in \u001b[0;36mCAttackPoisoning.run\u001b[1;34m(self, x, y, ds_init, max_iter)\u001b[0m\n\u001b[0;32m    551\u001b[0m \u001b[38;5;28;01mfor\u001b[39;00m i \u001b[38;5;129;01min\u001b[39;00m \u001b[38;5;28mrange\u001b[39m(\u001b[38;5;28mself\u001b[39m\u001b[38;5;241m.\u001b[39m_n_points):\n\u001b[0;32m    552\u001b[0m     \u001b[38;5;66;03m# this is to optimize the last points first\u001b[39;00m\n\u001b[0;32m    553\u001b[0m     \u001b[38;5;66;03m# (and then re-optimize the first ones)\u001b[39;00m\n\u001b[0;32m    554\u001b[0m     idx \u001b[38;5;241m=\u001b[39m \u001b[38;5;28mself\u001b[39m\u001b[38;5;241m.\u001b[39mn_points \u001b[38;5;241m-\u001b[39m i \u001b[38;5;241m-\u001b[39m \u001b[38;5;241m1\u001b[39m\n\u001b[1;32m--> 555\u001b[0m     xc[idx, :] \u001b[38;5;241m=\u001b[39m \u001b[38;5;28;43mself\u001b[39;49m\u001b[38;5;241;43m.\u001b[39;49m\u001b[43m_run\u001b[49m\u001b[43m(\u001b[49m\u001b[43mxc\u001b[49m\u001b[43m,\u001b[49m\u001b[43m \u001b[49m\u001b[43myc\u001b[49m\u001b[43m,\u001b[49m\u001b[43m \u001b[49m\u001b[43midx\u001b[49m\u001b[38;5;241;43m=\u001b[39;49m\u001b[43midx\u001b[49m\u001b[43m)\u001b[49m\n\u001b[0;32m    556\u001b[0m     \u001b[38;5;66;03m# optimizing poisoning point 0\u001b[39;00m\n\u001b[0;32m    557\u001b[0m     \u001b[38;5;28mself\u001b[39m\u001b[38;5;241m.\u001b[39mlogger\u001b[38;5;241m.\u001b[39minfo(\n\u001b[0;32m    558\u001b[0m         \u001b[38;5;124m\"\u001b[39m\u001b[38;5;124mpoisoning point \u001b[39m\u001b[38;5;132;01m{:}\u001b[39;00m\u001b[38;5;124m optim fopt: \u001b[39m\u001b[38;5;132;01m{:}\u001b[39;00m\u001b[38;5;124m\"\u001b[39m\u001b[38;5;241m.\u001b[39mformat(\n\u001b[0;32m    559\u001b[0m             i, \u001b[38;5;28mself\u001b[39m\u001b[38;5;241m.\u001b[39m_f_opt))\n",
      "File \u001b[1;32m~\\AppData\\Local\\Programs\\Python\\Python310\\lib\\site-packages\\secml\\adv\\attacks\\poisoning\\c_attack_poisoning.py:476\u001b[0m, in \u001b[0;36mCAttackPoisoning._run\u001b[1;34m(self, xc, yc, idx)\u001b[0m\n\u001b[0;32m    473\u001b[0m \u001b[38;5;28mself\u001b[39m\u001b[38;5;241m.\u001b[39m_init_solver()\n\u001b[0;32m    475\u001b[0m \u001b[38;5;28;01mif\u001b[39;00m \u001b[38;5;28mself\u001b[39m\u001b[38;5;241m.\u001b[39my_target \u001b[38;5;129;01mis\u001b[39;00m \u001b[38;5;28;01mNone\u001b[39;00m:  \u001b[38;5;66;03m# indiscriminate attack\u001b[39;00m\n\u001b[1;32m--> 476\u001b[0m     x \u001b[38;5;241m=\u001b[39m \u001b[38;5;28;43mself\u001b[39;49m\u001b[38;5;241;43m.\u001b[39;49m\u001b[43m_solver\u001b[49m\u001b[38;5;241;43m.\u001b[39;49m\u001b[43mmaximize\u001b[49m\u001b[43m(\u001b[49m\u001b[38;5;28;43mself\u001b[39;49m\u001b[38;5;241;43m.\u001b[39;49m\u001b[43m_x0\u001b[49m\u001b[43m)\u001b[49m\n\u001b[0;32m    477\u001b[0m \u001b[38;5;28;01melse\u001b[39;00m:  \u001b[38;5;66;03m# targeted attack\u001b[39;00m\n\u001b[0;32m    478\u001b[0m     x \u001b[38;5;241m=\u001b[39m \u001b[38;5;28mself\u001b[39m\u001b[38;5;241m.\u001b[39m_solver\u001b[38;5;241m.\u001b[39mminimize(\u001b[38;5;28mself\u001b[39m\u001b[38;5;241m.\u001b[39m_x0)\n",
      "File \u001b[1;32m~\\AppData\\Local\\Programs\\Python\\Python310\\lib\\site-packages\\secml\\optim\\optimizers\\c_optimizer.py:194\u001b[0m, in \u001b[0;36mCOptimizer.maximize\u001b[1;34m(self, x_init, args, **kwargs)\u001b[0m\n\u001b[0;32m    187\u001b[0m     \u001b[38;5;28;01mreturn\u001b[39;00m \u001b[38;5;241m-\u001b[39mwrapped_grad(z, \u001b[38;5;241m*\u001b[39mf_args, \u001b[38;5;241m*\u001b[39m\u001b[38;5;241m*\u001b[39mf_kwargs)\n\u001b[0;32m    189\u001b[0m \u001b[38;5;28mself\u001b[39m\u001b[38;5;241m.\u001b[39m_fun \u001b[38;5;241m=\u001b[39m CFunction(\n\u001b[0;32m    190\u001b[0m     fun\u001b[38;5;241m=\u001b[39mpartial(fun_inv, \u001b[38;5;28mself\u001b[39m\u001b[38;5;241m.\u001b[39m_f\u001b[38;5;241m.\u001b[39mfun),\n\u001b[0;32m    191\u001b[0m     gradient\u001b[38;5;241m=\u001b[39mpartial(grad_inv, \u001b[38;5;28mself\u001b[39m\u001b[38;5;241m.\u001b[39m_f\u001b[38;5;241m.\u001b[39mgradient)\n\u001b[0;32m    192\u001b[0m )\n\u001b[1;32m--> 194\u001b[0m x \u001b[38;5;241m=\u001b[39m \u001b[38;5;28mself\u001b[39m\u001b[38;5;241m.\u001b[39mminimize(x_init, args\u001b[38;5;241m=\u001b[39margs, \u001b[38;5;241m*\u001b[39m\u001b[38;5;241m*\u001b[39mkwargs)\n\u001b[0;32m    196\u001b[0m \u001b[38;5;66;03m# fix solution variables\u001b[39;00m\n\u001b[0;32m    197\u001b[0m \u001b[38;5;28mself\u001b[39m\u001b[38;5;241m.\u001b[39m_f_seq \u001b[38;5;241m=\u001b[39m \u001b[38;5;241m-\u001b[39m\u001b[38;5;28mself\u001b[39m\u001b[38;5;241m.\u001b[39m_f_seq\n",
      "File \u001b[1;32m~\\AppData\\Local\\Programs\\Python\\Python310\\lib\\site-packages\\secml\\optim\\optimizers\\c_optimizer_pgd_ls.py:330\u001b[0m, in \u001b[0;36mCOptimizerPGDLS.minimize\u001b[1;34m(self, x_init, args, **kwargs)\u001b[0m\n\u001b[0;32m    325\u001b[0m \u001b[38;5;28mself\u001b[39m\u001b[38;5;241m.\u001b[39mlogger\u001b[38;5;241m.\u001b[39mdebug(\u001b[38;5;124m'\u001b[39m\u001b[38;5;124mIter.: \u001b[39m\u001b[38;5;124m'\u001b[39m \u001b[38;5;241m+\u001b[39m \u001b[38;5;28mstr\u001b[39m(\u001b[38;5;241m0\u001b[39m) \u001b[38;5;241m+\u001b[39m \u001b[38;5;124m'\u001b[39m\u001b[38;5;124m, f(x): \u001b[39m\u001b[38;5;124m'\u001b[39m \u001b[38;5;241m+\u001b[39m \u001b[38;5;28mstr\u001b[39m(fx))\n\u001b[0;32m    327\u001b[0m \u001b[38;5;28;01mfor\u001b[39;00m i \u001b[38;5;129;01min\u001b[39;00m \u001b[38;5;28mrange\u001b[39m(\u001b[38;5;241m1\u001b[39m, \u001b[38;5;28mself\u001b[39m\u001b[38;5;241m.\u001b[39mmax_iter):\n\u001b[0;32m    328\u001b[0m \n\u001b[0;32m    329\u001b[0m     \u001b[38;5;66;03m# update point\u001b[39;00m\n\u001b[1;32m--> 330\u001b[0m     x, fx \u001b[38;5;241m=\u001b[39m \u001b[38;5;28;43mself\u001b[39;49m\u001b[38;5;241;43m.\u001b[39;49m\u001b[43m_xk\u001b[49m\u001b[43m(\u001b[49m\u001b[43mx\u001b[49m\u001b[43m,\u001b[49m\u001b[43m \u001b[49m\u001b[43mfx\u001b[49m\u001b[43m,\u001b[49m\u001b[43m \u001b[49m\u001b[38;5;241;43m*\u001b[39;49m\u001b[43margs\u001b[49m\u001b[43m)\u001b[49m\n\u001b[0;32m    332\u001b[0m     \u001b[38;5;66;03m# Update history\u001b[39;00m\n\u001b[0;32m    333\u001b[0m     \u001b[38;5;28mself\u001b[39m\u001b[38;5;241m.\u001b[39m_x_seq[i, :] \u001b[38;5;241m=\u001b[39m x\n",
      "File \u001b[1;32m~\\AppData\\Local\\Programs\\Python\\Python310\\lib\\site-packages\\secml\\optim\\optimizers\\c_optimizer_pgd_ls.py:204\u001b[0m, in \u001b[0;36mCOptimizerPGDLS._xk\u001b[1;34m(self, x, fx, *args)\u001b[0m\n\u001b[0;32m    201\u001b[0m \u001b[38;5;250m\u001b[39m\u001b[38;5;124;03m\"\"\"Returns a new point after gradient descent.\"\"\"\u001b[39;00m\n\u001b[0;32m    203\u001b[0m \u001b[38;5;66;03m# compute gradient\u001b[39;00m\n\u001b[1;32m--> 204\u001b[0m grad \u001b[38;5;241m=\u001b[39m \u001b[38;5;28;43mself\u001b[39;49m\u001b[38;5;241;43m.\u001b[39;49m\u001b[43m_fun\u001b[49m\u001b[38;5;241;43m.\u001b[39;49m\u001b[43mgradient\u001b[49m\u001b[43m(\u001b[49m\u001b[43mx\u001b[49m\u001b[43m,\u001b[49m\u001b[43m \u001b[49m\u001b[38;5;241;43m*\u001b[39;49m\u001b[43margs\u001b[49m\u001b[43m)\u001b[49m\n\u001b[0;32m    205\u001b[0m \u001b[38;5;28mself\u001b[39m\u001b[38;5;241m.\u001b[39m_grad \u001b[38;5;241m=\u001b[39m grad  \u001b[38;5;66;03m# only used for visualization/convergence\u001b[39;00m\n\u001b[0;32m    207\u001b[0m norm \u001b[38;5;241m=\u001b[39m grad\u001b[38;5;241m.\u001b[39mnorm()\n",
      "File \u001b[1;32m~\\AppData\\Local\\Programs\\Python\\Python310\\lib\\site-packages\\secml\\optim\\function\\c_function.py:150\u001b[0m, in \u001b[0;36mCFunction.gradient\u001b[1;34m(self, x, *args, **kwargs)\u001b[0m\n\u001b[0;32m    148\u001b[0m     \u001b[38;5;28;01mraise\u001b[39;00m \u001b[38;5;167;01mValueError\u001b[39;00m(\u001b[38;5;124m\"\u001b[39m\u001b[38;5;124minput of gradient must be a single point.\u001b[39m\u001b[38;5;124m\"\u001b[39m)\n\u001b[0;32m    149\u001b[0m \u001b[38;5;28mself\u001b[39m\u001b[38;5;241m.\u001b[39m_check_ndim(x)\n\u001b[1;32m--> 150\u001b[0m out_grad \u001b[38;5;241m=\u001b[39m \u001b[38;5;28mself\u001b[39m\u001b[38;5;241m.\u001b[39m_gradient(x, \u001b[38;5;241m*\u001b[39margs, \u001b[38;5;241m*\u001b[39m\u001b[38;5;241m*\u001b[39mkwargs)\n\u001b[0;32m    151\u001b[0m \u001b[38;5;28;01mif\u001b[39;00m \u001b[38;5;129;01mnot\u001b[39;00m \u001b[38;5;28misinstance\u001b[39m(out_grad, CArray):\n\u001b[0;32m    152\u001b[0m     \u001b[38;5;28;01mraise\u001b[39;00m \u001b[38;5;167;01mTypeError\u001b[39;00m(\u001b[38;5;124m\"\u001b[39m\u001b[38;5;124m`_gradient` must return a CArray!\u001b[39m\u001b[38;5;124m\"\u001b[39m)\n",
      "File \u001b[1;32m~\\AppData\\Local\\Programs\\Python\\Python310\\lib\\site-packages\\secml\\optim\\optimizers\\c_optimizer.py:187\u001b[0m, in \u001b[0;36mCOptimizer.maximize.<locals>.grad_inv\u001b[1;34m(wrapped_grad, z, *f_args, **f_kwargs)\u001b[0m\n\u001b[0;32m    186\u001b[0m \u001b[38;5;28;01mdef\u001b[39;00m \u001b[38;5;21mgrad_inv\u001b[39m(wrapped_grad, z, \u001b[38;5;241m*\u001b[39mf_args, \u001b[38;5;241m*\u001b[39m\u001b[38;5;241m*\u001b[39mf_kwargs):\n\u001b[1;32m--> 187\u001b[0m     \u001b[38;5;28;01mreturn\u001b[39;00m \u001b[38;5;241m-\u001b[39mwrapped_grad(z, \u001b[38;5;241m*\u001b[39mf_args, \u001b[38;5;241m*\u001b[39m\u001b[38;5;241m*\u001b[39mf_kwargs)\n",
      "File \u001b[1;32m~\\AppData\\Local\\Programs\\Python\\Python310\\lib\\site-packages\\secml\\optim\\function\\c_function.py:150\u001b[0m, in \u001b[0;36mCFunction.gradient\u001b[1;34m(self, x, *args, **kwargs)\u001b[0m\n\u001b[0;32m    148\u001b[0m     \u001b[38;5;28;01mraise\u001b[39;00m \u001b[38;5;167;01mValueError\u001b[39;00m(\u001b[38;5;124m\"\u001b[39m\u001b[38;5;124minput of gradient must be a single point.\u001b[39m\u001b[38;5;124m\"\u001b[39m)\n\u001b[0;32m    149\u001b[0m \u001b[38;5;28mself\u001b[39m\u001b[38;5;241m.\u001b[39m_check_ndim(x)\n\u001b[1;32m--> 150\u001b[0m out_grad \u001b[38;5;241m=\u001b[39m \u001b[38;5;28mself\u001b[39m\u001b[38;5;241m.\u001b[39m_gradient(x, \u001b[38;5;241m*\u001b[39margs, \u001b[38;5;241m*\u001b[39m\u001b[38;5;241m*\u001b[39mkwargs)\n\u001b[0;32m    151\u001b[0m \u001b[38;5;28;01mif\u001b[39;00m \u001b[38;5;129;01mnot\u001b[39;00m \u001b[38;5;28misinstance\u001b[39m(out_grad, CArray):\n\u001b[0;32m    152\u001b[0m     \u001b[38;5;28;01mraise\u001b[39;00m \u001b[38;5;167;01mTypeError\u001b[39;00m(\u001b[38;5;124m\"\u001b[39m\u001b[38;5;124m`_gradient` must return a CArray!\u001b[39m\u001b[38;5;124m\"\u001b[39m)\n",
      "File \u001b[1;32m~\\AppData\\Local\\Programs\\Python\\Python310\\lib\\site-packages\\secml\\adv\\attacks\\poisoning\\c_attack_poisoning.py:427\u001b[0m, in \u001b[0;36mCAttackPoisoning.objective_function_gradient\u001b[1;34m(self, xc, normalization)\u001b[0m\n\u001b[0;32m    424\u001b[0m \u001b[38;5;28;01mif\u001b[39;00m clf\u001b[38;5;241m.\u001b[39mn_classes \u001b[38;5;241m<\u001b[39m\u001b[38;5;241m=\u001b[39m \u001b[38;5;241m2\u001b[39m:\n\u001b[0;32m    425\u001b[0m     loss_grad \u001b[38;5;241m=\u001b[39m \u001b[38;5;28mself\u001b[39m\u001b[38;5;241m.\u001b[39m_attacker_loss\u001b[38;5;241m.\u001b[39mdloss(\n\u001b[0;32m    426\u001b[0m         y_ts, CArray(score[:, \u001b[38;5;241m1\u001b[39m])\u001b[38;5;241m.\u001b[39mravel())\n\u001b[1;32m--> 427\u001b[0m     grad \u001b[38;5;241m=\u001b[39m \u001b[38;5;28;43mself\u001b[39;49m\u001b[38;5;241;43m.\u001b[39;49m\u001b[43m_gradient_fk_xc\u001b[49m\u001b[43m(\u001b[49m\n\u001b[0;32m    428\u001b[0m \u001b[43m        \u001b[49m\u001b[38;5;28;43mself\u001b[39;49m\u001b[38;5;241;43m.\u001b[39;49m\u001b[43m_xc\u001b[49m\u001b[43m[\u001b[49m\u001b[43midx\u001b[49m\u001b[43m,\u001b[49m\u001b[43m \u001b[49m\u001b[43m:\u001b[49m\u001b[43m]\u001b[49m\u001b[43m,\u001b[49m\u001b[43m \u001b[49m\u001b[38;5;28;43mself\u001b[39;49m\u001b[38;5;241;43m.\u001b[39;49m\u001b[43m_yc\u001b[49m\u001b[43m[\u001b[49m\u001b[43midx\u001b[49m\u001b[43m]\u001b[49m\u001b[43m,\u001b[49m\u001b[43m \u001b[49m\u001b[43mclf\u001b[49m\u001b[43m,\u001b[49m\u001b[43m \u001b[49m\u001b[43mloss_grad\u001b[49m\u001b[43m,\u001b[49m\u001b[43m \u001b[49m\u001b[43mtr\u001b[49m\u001b[43m)\u001b[49m\n\u001b[0;32m    429\u001b[0m \u001b[38;5;28;01melse\u001b[39;00m:\n\u001b[0;32m    430\u001b[0m     \u001b[38;5;66;03m# compute the gradient as a sum of the gradient for each class\u001b[39;00m\n\u001b[0;32m    431\u001b[0m     \u001b[38;5;28;01mfor\u001b[39;00m c \u001b[38;5;129;01min\u001b[39;00m \u001b[38;5;28mrange\u001b[39m(clf\u001b[38;5;241m.\u001b[39mn_classes):\n",
      "File \u001b[1;32m~\\AppData\\Local\\Programs\\Python\\Python310\\lib\\site-packages\\secml\\adv\\attacks\\poisoning\\c_attack_poisoning_logistic_regression.py:129\u001b[0m, in \u001b[0;36mCAttackPoisoningLogisticRegression._gradient_fk_xc\u001b[1;34m(self, xc, yc, clf, loss_grad, tr, k)\u001b[0m\n\u001b[0;32m    125\u001b[0m \u001b[38;5;28;01melse\u001b[39;00m:\n\u001b[0;32m    126\u001b[0m     \u001b[38;5;28;01mraise\u001b[39;00m \u001b[38;5;167;01mValueError\u001b[39;00m(\u001b[38;5;124m\"\u001b[39m\u001b[38;5;124mError: The classifier does not have neither C \u001b[39m\u001b[38;5;124m\"\u001b[39m\n\u001b[0;32m    127\u001b[0m                      \u001b[38;5;124m\"\u001b[39m\u001b[38;5;124mnor alpha\u001b[39m\u001b[38;5;124m\"\u001b[39m)\n\u001b[1;32m--> 129\u001b[0m H \u001b[38;5;241m=\u001b[39m \u001b[43mclf\u001b[49m\u001b[38;5;241;43m.\u001b[39;49m\u001b[43mhessian_tr_params\u001b[49m\u001b[43m(\u001b[49m\u001b[43mtr\u001b[49m\u001b[38;5;241;43m.\u001b[39;49m\u001b[43mX\u001b[49m\u001b[43m,\u001b[49m\u001b[43m \u001b[49m\u001b[43mtr\u001b[49m\u001b[38;5;241;43m.\u001b[39;49m\u001b[43mY\u001b[49m\u001b[43m)\u001b[49m\n\u001b[0;32m    131\u001b[0m \u001b[38;5;66;03m# change vector dimensions to match the mathematical formulation...\u001b[39;00m\n\u001b[0;32m    132\u001b[0m yc \u001b[38;5;241m=\u001b[39m convert_binary_labels(yc)\n",
      "File \u001b[1;32m~\\AppData\\Local\\Programs\\Python\\Python310\\lib\\site-packages\\secml\\ml\\classifiers\\gradients\\mixin_classifier_gradient_logistic.py:56\u001b[0m, in \u001b[0;36mCClassifierGradientLogisticMixin.hessian_tr_params\u001b[1;34m(self, x, y)\u001b[0m\n\u001b[0;32m     53\u001b[0m d \u001b[38;5;241m=\u001b[39m x\u001b[38;5;241m.\u001b[39mshape[\u001b[38;5;241m1\u001b[39m]  \u001b[38;5;66;03m# number of features in the normalized space\u001b[39;00m\n\u001b[0;32m     55\u001b[0m \u001b[38;5;66;03m# first derivative wrt b derived w.r.t. w\u001b[39;00m\n\u001b[1;32m---> 56\u001b[0m diag \u001b[38;5;241m=\u001b[39m \u001b[43mz\u001b[49m\u001b[43m \u001b[49m\u001b[38;5;241;43m*\u001b[39;49m\u001b[43m \u001b[49m\u001b[43mCArray\u001b[49m\u001b[38;5;241;43m.\u001b[39;49m\u001b[43meye\u001b[49m\u001b[43m(\u001b[49m\u001b[43mn_rows\u001b[49m\u001b[38;5;241;43m=\u001b[39;49m\u001b[43mn\u001b[49m\u001b[43m,\u001b[49m\u001b[43m \u001b[49m\u001b[43mn_cols\u001b[49m\u001b[38;5;241;43m=\u001b[39;49m\u001b[43mn\u001b[49m\u001b[43m)\u001b[49m\n\u001b[0;32m     57\u001b[0m dww \u001b[38;5;241m=\u001b[39m C \u001b[38;5;241m*\u001b[39m (x\u001b[38;5;241m.\u001b[39mT\u001b[38;5;241m.\u001b[39mdot(diag)\u001b[38;5;241m.\u001b[39mdot(x)) \u001b[38;5;241m+\u001b[39m CArray\u001b[38;5;241m.\u001b[39meye(d, d)  \u001b[38;5;66;03m# matrix d*d\u001b[39;00m\n\u001b[0;32m     58\u001b[0m dbw \u001b[38;5;241m=\u001b[39m C \u001b[38;5;241m*\u001b[39m ((z \u001b[38;5;241m*\u001b[39m x)\u001b[38;5;241m.\u001b[39msum(axis\u001b[38;5;241m=\u001b[39m\u001b[38;5;241m0\u001b[39m))\u001b[38;5;241m.\u001b[39mT  \u001b[38;5;66;03m# column vector\u001b[39;00m\n",
      "File \u001b[1;32m~\\AppData\\Local\\Programs\\Python\\Python310\\lib\\site-packages\\secml\\array\\c_array.py:1181\u001b[0m, in \u001b[0;36mCArray.__mul__\u001b[1;34m(self, other)\u001b[0m\n\u001b[0;32m   1179\u001b[0m     \u001b[38;5;28;01mif\u001b[39;00m \u001b[38;5;28mself\u001b[39m\u001b[38;5;241m.\u001b[39misdense \u001b[38;5;129;01mis\u001b[39;00m \u001b[38;5;28;01mTrue\u001b[39;00m \u001b[38;5;129;01mand\u001b[39;00m other\u001b[38;5;241m.\u001b[39missparse \u001b[38;5;129;01mis\u001b[39;00m \u001b[38;5;28;01mTrue\u001b[39;00m:\n\u001b[0;32m   1180\u001b[0m         \u001b[38;5;28;01mreturn\u001b[39;00m \u001b[38;5;28mself\u001b[39m\u001b[38;5;241m.\u001b[39m\u001b[38;5;18m__class__\u001b[39m(other\u001b[38;5;241m.\u001b[39m_data\u001b[38;5;241m.\u001b[39m\u001b[38;5;21m__mul__\u001b[39m(\u001b[38;5;28mself\u001b[39m\u001b[38;5;241m.\u001b[39m_data))\n\u001b[1;32m-> 1181\u001b[0m     \u001b[38;5;28;01mreturn\u001b[39;00m \u001b[38;5;28mself\u001b[39m\u001b[38;5;241m.\u001b[39m\u001b[38;5;18m__class__\u001b[39m(\u001b[38;5;28;43mself\u001b[39;49m\u001b[38;5;241;43m.\u001b[39;49m\u001b[43m_data\u001b[49m\u001b[38;5;241;43m.\u001b[39;49m\u001b[38;5;21;43m__mul__\u001b[39;49m\u001b[43m(\u001b[49m\u001b[43mother\u001b[49m\u001b[38;5;241;43m.\u001b[39;49m\u001b[43m_data\u001b[49m\u001b[43m)\u001b[49m)\n\u001b[0;32m   1182\u001b[0m \u001b[38;5;28;01melif\u001b[39;00m is_ndarray(other) \u001b[38;5;129;01mor\u001b[39;00m is_scsarray(other):\n\u001b[0;32m   1183\u001b[0m     \u001b[38;5;28;01mraise\u001b[39;00m \u001b[38;5;167;01mTypeError\u001b[39;00m(\u001b[38;5;124m\"\u001b[39m\u001b[38;5;124munsupported operand type(s) for *: \u001b[39m\u001b[38;5;124m\"\u001b[39m\n\u001b[0;32m   1184\u001b[0m                     \u001b[38;5;124m\"\u001b[39m\u001b[38;5;124m'\u001b[39m\u001b[38;5;132;01m{:}\u001b[39;00m\u001b[38;5;124m'\u001b[39m\u001b[38;5;124m and \u001b[39m\u001b[38;5;124m'\u001b[39m\u001b[38;5;132;01m{:}\u001b[39;00m\u001b[38;5;124m'\u001b[39m\u001b[38;5;124m\"\u001b[39m\u001b[38;5;241m.\u001b[39mformat(\u001b[38;5;28mtype\u001b[39m(\u001b[38;5;28mself\u001b[39m)\u001b[38;5;241m.\u001b[39m\u001b[38;5;18m__name__\u001b[39m,\n\u001b[0;32m   1185\u001b[0m                                              \u001b[38;5;28mtype\u001b[39m(other)\u001b[38;5;241m.\u001b[39m\u001b[38;5;18m__name__\u001b[39m))\n",
      "File \u001b[1;32m~\\AppData\\Local\\Programs\\Python\\Python310\\lib\\site-packages\\secml\\array\\c_dense.py:647\u001b[0m, in \u001b[0;36mCDense.__mul__\u001b[1;34m(self, other)\u001b[0m\n\u001b[0;32m    630\u001b[0m \u001b[38;5;250m\u001b[39m\u001b[38;5;124;03m\"\"\"Element-wise product.\u001b[39;00m\n\u001b[0;32m    631\u001b[0m \n\u001b[0;32m    632\u001b[0m \u001b[38;5;124;03mParameters\u001b[39;00m\n\u001b[1;32m   (...)\u001b[0m\n\u001b[0;32m    643\u001b[0m \n\u001b[0;32m    644\u001b[0m \u001b[38;5;124;03m\"\"\"\u001b[39;00m\n\u001b[0;32m    645\u001b[0m \u001b[38;5;28;01mif\u001b[39;00m is_scalar(other) \u001b[38;5;129;01mor\u001b[39;00m is_bool(other) \u001b[38;5;129;01mor\u001b[39;00m \u001b[38;5;28misinstance\u001b[39m(other, CDense):\n\u001b[0;32m    646\u001b[0m     \u001b[38;5;28;01mreturn\u001b[39;00m \u001b[38;5;28mself\u001b[39m\u001b[38;5;241m.\u001b[39m\u001b[38;5;18m__class__\u001b[39m(\n\u001b[1;32m--> 647\u001b[0m         \u001b[43mnp\u001b[49m\u001b[38;5;241;43m.\u001b[39;49m\u001b[43mmultiply\u001b[49m\u001b[43m(\u001b[49m\u001b[38;5;28;43mself\u001b[39;49m\u001b[38;5;241;43m.\u001b[39;49m\u001b[43mtondarray\u001b[49m\u001b[43m(\u001b[49m\u001b[43m)\u001b[49m\u001b[43m,\u001b[49m\u001b[43m \u001b[49m\u001b[38;5;28;43mself\u001b[39;49m\u001b[38;5;241;43m.\u001b[39;49m\u001b[43m_buffer_to_builtin\u001b[49m\u001b[43m(\u001b[49m\u001b[43mother\u001b[49m\u001b[43m)\u001b[49m\u001b[43m)\u001b[49m)\n\u001b[0;32m    648\u001b[0m \u001b[38;5;28;01melse\u001b[39;00m:\n\u001b[0;32m    649\u001b[0m     \u001b[38;5;28;01mreturn\u001b[39;00m \u001b[38;5;28mNotImplemented\u001b[39m\n",
      "\u001b[1;31mKeyboardInterrupt\u001b[0m: "
     ]
    }
   ],
   "source": [
    "poisoning_strength = 0.1 # Percentage of points to poison in training data\n",
    "n_poisoning_points = int(X_train.shape[0] * poisoning_strength)  # Number of poisoning points to generate\n",
    "\n",
    "pois_attack = CAttackPoisoningLogisticRegression(classifier=c_classifier_LR,\n",
    "                                training_data=dataset,\n",
    "                                val=dataset,\n",
    "                                lb=lob, \n",
    "                                ub=ub,\n",
    "                                solver_params=solver_params)\n",
    "pois_attack.n_points = n_poisoning_points\n",
    "\n",
    "# Run the poisoning attack\n",
    "print(\"Attack started...\")\n",
    "pois_y_pred, _, pois_points_ds, _ = pois_attack.run(X_test, y_test)\n",
    "print(\"Attack complete!\")"
   ]
  },
  {
   "cell_type": "code",
   "execution_count": 16,
   "id": "6839613b",
   "metadata": {},
   "outputs": [
    {
     "name": "stdout",
     "output_type": "stream",
     "text": [
      "SVM\n",
      "accuracy 0.9793837286632676\n",
      "---------------------------\n",
      "MLP\n",
      "accuracy 0.9891376634892485\n",
      "---------------------------\n",
      "XGB\n",
      "accuracy 0.9900243848370649\n",
      "---------------------------\n",
      "LGBM\n",
      "accuracy 0.9909111061848814\n",
      "---------------------------\n",
      "AutoKeras Model\n",
      "accuracy 0.9858124852180481\n",
      "---------------------------\n",
      "Ensemble accuracy 0.9909111061848814\n"
     ]
    }
   ],
   "source": [
    "pois_X_train = copy.deepcopy(X_train)\n",
    "pois_y_train = copy.deepcopy(y_train)\n",
    "\n",
    "for i in range(n_poisoning_points):\n",
    "    pois_X_train = np.append(pois_X_train, pois_points_ds.X[i,:].tolist(), axis=0)\n",
    "    pois_y_train = np.append(pois_y_train, pois_points_ds.Y[i].tolist())\n",
    "pois_y_train = lb.fit_transform(pois_y_train)\n",
    "\n",
    "\n",
    "#Train the classifiers with poisoned datasets\n",
    "classifiers_secml = {\"SVM\": SVC(kernel = 'linear', degree=3), \"MLP\": MLPClassifier(random_state=1, max_iter=300), \"XGB\": XGBClassifier(), \"LGBM\": LGBMClassifier()} \n",
    "y_preds = np.ndarray(shape=(5,len(y_test)))\n",
    "i=0\n",
    "\n",
    "for classifier_pair in classifiers_secml.items():\n",
    "    print(classifier_pair[0])\n",
    "    classifier = classifier_pair[1]\n",
    "    classifier.fit(pois_X_train, pois_y_train)\n",
    "    # Predicting the Test set results\n",
    "    y_pred = classifier.predict(X_test)\n",
    "    y_preds[i] = y_pred\n",
    "    #compute accuracy_score\n",
    "    accuracy = acc(y_test, y_pred)\n",
    "    print('accuracy', accuracy)\n",
    "    i += 1\n",
    "    print(\"---------------------------\")\n",
    "\n",
    "ak_model_secml=autoKerasModel('structured_data_classifier/best_model')\n",
    "ak_model_secml.compile(loss='binary_crossentropy', optimizer='adam', metrics=['accuracy'])\n",
    "\n",
    "ak_model_secml.fit(pois_X_train, pois_y_train, epochs=15, verbose=0)\n",
    "\n",
    "y_preds[i] = np.transpose(ak_model_secml.predict(X_test, verbose=0))\n",
    "print(\"AutoKeras Model\")\n",
    "print('accuracy', ak_model_secml.evaluate(X_test, y_test, verbose=0)[1])\n",
    "print(\"---------------------------\")\n",
    "y_preds = np.transpose(y_preds)\n",
    "print('Ensemble accuracy', majority_voting(y_preds, y_test))"
   ]
  },
  {
   "cell_type": "markdown",
   "id": "14f1ae56",
   "metadata": {},
   "source": [
    "# 20% Poisoning"
   ]
  },
  {
   "cell_type": "code",
   "execution_count": null,
   "id": "a4afb7d4",
   "metadata": {},
   "outputs": [],
   "source": [
    "poisoning_strength = 0.2 # Percentage of points to poison in training data\n",
    "n_poisoning_points = int(X_train.shape[0] * poisoning_strength)  # Number of poisoning points to generate\n",
    "\n",
    "pois_attack = CAttackPoisoningLogisticRegression(classifier=c_classifier_LR,\n",
    "                                training_data=dataset,\n",
    "                                val=dataset,\n",
    "                                lb=lb, \n",
    "                                ub=ub,\n",
    "                                solver_params=solver_params)\n",
    "pois_attack.n_points = n_poisoning_points\n",
    "\n",
    "# Run the poisoning attack\n",
    "print(\"Attack started...\")\n",
    "pois_y_pred, _, pois_points_ds, _ = pois_attack.run(X_test, y_test)\n",
    "print(\"Attack complete!\")\n",
    "\n",
    "# Evaluate the accuracy of the original classifier\n",
    "acc = metric.performance_score(y_true=y_test, y_pred=c_classifier_LR.predict(X_test))\n",
    "# Evaluate the accuracy after the poisoning attack\n",
    "pois_acc = metric.performance_score(y_true=y_test, y_pred=pois_y_pred)\n",
    "\n",
    "print(\"Original accuracy on test set: {:.2%}\".format(acc))\n",
    "print(\"Accuracy after attack on test set: {:.2%}\".format(pois_acc))\n",
    "\n",
    "print(\"\\n---------------------------\")\n",
    "print(\"END OF LR POISONING with 20%\")\n",
    "print(\"---------------------------\\n\\n\")"
   ]
  }
 ],
 "metadata": {
  "kernelspec": {
   "display_name": "Python 3 (ipykernel)",
   "language": "python",
   "name": "python3"
  },
  "language_info": {
   "codemirror_mode": {
    "name": "ipython",
    "version": 3
   },
   "file_extension": ".py",
   "mimetype": "text/x-python",
   "name": "python",
   "nbconvert_exporter": "python",
   "pygments_lexer": "ipython3",
   "version": "3.10.9"
  }
 },
 "nbformat": 4,
 "nbformat_minor": 5
}
